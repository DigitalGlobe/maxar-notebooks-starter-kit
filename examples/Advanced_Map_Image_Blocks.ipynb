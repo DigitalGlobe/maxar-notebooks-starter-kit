{
 "cells": [
  {
   "cell_type": "code",
   "execution_count": null,
   "metadata": {},
   "outputs": [],
   "source": []
  },
  {
   "cell_type": "markdown",
   "metadata": {},
   "source": [
    "# Processing an Entire Image\n",
    "\n",
    "Say you want to process an entire image. Pulling a full strip of imagery into a notebook is quite hefty as Maxar satellite imagery can range from 10gb to 40gb. GBDXTools offers some helpers that let us process pixels in a deferred way so that we can apply methods to work with pixels across large AOIs and only perform the computation (fetching of actual pixel data) when we need it. \n",
    "\n",
    "In this notebook we'll walk through a basic example of applying a band index across an entire image. We'll fetch several AOIs on the processed image and produce a large geotiff that fetch lots of data.\n",
    "\n",
    "## Create an image \n",
    "First we want to create a CatalogImage of an entire WorldView-3 strip. Note that we don't specify a `bbox`; we want the whole thing. \n",
    "\n",
    "from gbdxtools import CatalogImage\n",
    "\n",
    "image = CatalogImage('10400100137F4900')\n",
    "image.shape, image.ntiles"
   ]
  },
  {
   "cell_type": "markdown",
   "metadata": {},
   "source": [
    "Notice that the image is fairly large: over 2k tiles. This would be a lot to fetch all at once into memory for things like plotting.\n",
    "\n",
    "## Define our function\n",
    "\n",
    "For this example we'll create a simple method that accepts a chunk of imagery at a time and returns Normalize Difference Water Index (NDWI) from the Green and Near-Infrared bands (bands 2 and 7).   "
   ]
  },
  {
   "cell_type": "code",
   "execution_count": null,
   "metadata": {},
   "outputs": [],
   "source": [
    "import numpy as np\n",
    "\n",
    "# this method read a chunk of data\n",
    "# the chunk of data can be changed in some way and returned\n",
    "def ndwi(chunk):\n",
    "    return np.expand_dims(np.clip((chunk[4,:,:] - chunk[7,:,:]) / (chunk[4,:,:] + chunk[7,:,:]), -1, 1), axis=0)"
   ]
  },
  {
   "cell_type": "markdown",
   "metadata": {},
   "source": [
    "Our method above just calculates our water index, clips the data to -1 and 1 and returns the index. Pretty simple!\n",
    "\n",
    "Next we use the `map_blocks` method to apply our function over every chunk of data in the image. What we have at the end is an image of NDWI data ready for use."
   ]
  },
  {
   "cell_type": "code",
   "execution_count": null,
   "metadata": {},
   "outputs": [],
   "source": [
    "processed = image.map_blocks(ndwi, dtype=image.dtype, chunks=(1,256,256))"
   ]
  },
  {
   "cell_type": "code",
   "execution_count": null,
   "metadata": {},
   "outputs": [],
   "source": [
    "aoi = image.randwindow((500,500))\n",
    "aoi.plot()"
   ]
  },
  {
   "cell_type": "code",
   "execution_count": null,
   "metadata": {},
   "outputs": [],
   "source": [
    "from shapely.geometry import shape \n",
    "import matplotlib.pyplot as plt\n",
    "%matplotlib inline\n",
    "\n",
    "aoi = image.randwindow((500,500))\n",
    "bounds = image.pxbounds(shape(aoi))\n",
    "\n",
    "ndwi_aoi = processed[:, bounds[1]:bounds[3], bounds[0]:bounds[2]]\n",
    "\n",
    "plt.axis('off')\n",
    "plt.imshow(ndwi_aoi[0,:,:], cmap=\"jet\")\n",
    "plt.show()"
   ]
  },
  {
   "cell_type": "markdown",
   "metadata": {},
   "source": [
    "## Check out the data\n",
    "\n",
    "Now that we've processed our image, lets check out some random windows on the data for a visual check. Here we loop over 10 windows using `iterwindows` and plot each one. "
   ]
  },
  {
   "cell_type": "code",
   "execution_count": null,
   "metadata": {
    "remote": true
   },
   "outputs": [],
   "source": [
    "import matplotlib.pyplot as plt\n",
    "%matplotlib inline\n",
    "\n",
    "plt.figure(figsize=(15,5))\n",
    "\n",
    "for i, window in enumerate(processed.iterwindows(10, (256,256))):\n",
    "    aoi = window.read(quiet=True)\n",
    "    plt.subplot(2,5,i+1)\n",
    "    plt.axis('off')\n",
    "    plt.imshow(aoi[0], cmap=\"jet\")\n",
    "    \n",
    "plt.show()\n"
   ]
  },
  {
   "cell_type": "markdown",
   "metadata": {},
   "source": [
    "## Create a geotiff\n",
    "\n",
    "Now we can use the geotiff method on our processed image to efficiently create a geotiff image of the entire strip."
   ]
  },
  {
   "cell_type": "code",
   "execution_count": null,
   "metadata": {},
   "outputs": [],
   "source": [
    "processed.geotiff(path=\"ndwi.tif\")"
   ]
  },
  {
   "cell_type": "code",
   "execution_count": null,
   "metadata": {
    "remote": true
   },
   "outputs": [],
   "source": [
    "!ls -l ndwi.tif"
   ]
  },
  {
   "cell_type": "code",
   "execution_count": null,
   "metadata": {},
   "outputs": [],
   "source": []
  }
 ],
 "metadata": {
  "kernelspec": {
   "display_name": "Python 3",
   "language": "python",
   "name": "python3"
  },
  "language_info": {
   "codemirror_mode": {
    "name": "ipython",
    "version": 3
   },
   "file_extension": ".py",
   "mimetype": "text/x-python",
   "name": "python",
   "nbconvert_exporter": "python",
   "pygments_lexer": "ipython3",
   "version": "3.9.0"
  }
 },
 "nbformat": 4,
 "nbformat_minor": 4
}
