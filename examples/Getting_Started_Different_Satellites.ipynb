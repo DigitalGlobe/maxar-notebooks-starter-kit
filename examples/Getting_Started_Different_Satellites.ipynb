{
 "cells": [
  {
   "cell_type": "markdown",
   "metadata": {},
   "source": [
    "# Characteristics of the Different Satellites\n",
    "\n",
    "Now that we know how to get images into a notebook, let's look at images from some of the different satellite platforms available on GBDX. At the end of this exercise you'll have a basic understanding of what imagery you can get from the different satellites. We are going to keep our area of interest to be Pueblo, Colorado. \n",
    "\n",
    "For a list of all the satellite platforms available in GBDX Notebooks along with their vital characteristics, see <a href=\"https://gbdxdocs.digitalglobe.com/docs/datasets-on-gbdx\" target=\"_blank\" rel=\"noopener\">Datasets on GBDX</a>.\n",
    "\n",
    "## Examples"
   ]
  },
  {
   "cell_type": "code",
   "execution_count": null,
   "metadata": {},
   "outputs": [],
   "source": [
    "print(\"Installing Matplotlib...\")\n",
    "!pip install matplotlib -qq"
   ]
  },
  {
   "cell_type": "code",
   "execution_count": null,
   "metadata": {},
   "outputs": [],
   "source": [
    "from gbdxtools import CatalogImage\n",
    "import matplotlib.pyplot as plt\n",
    "%matplotlib inline"
   ]
  },
  {
   "cell_type": "markdown",
   "metadata": {},
   "source": [
    "### Ikonos\n",
    "\n",
    " <a href=\"https://gbdxdocs.digitalglobe.com/docs/ikonos\" target=\"_blank\" rel=\"noopener\">Ikonos</a> The Ikonos satellite is no longer capturing images. "
   ]
  },
  {
   "cell_type": "code",
   "execution_count": null,
   "metadata": {},
   "outputs": [],
   "source": [
    "catalog_id = '2012052117434180000011625024'\n",
    "bbox_zoomed_out = '-104.62331771850587, 38.2283368266312, -104.57765579223634, 38.26311948473318'\n",
    "bbox_zoomed_in = '-104.60874795913698, 38.25575652211525, -104.60304021835327, 38.25924433426365'\n",
    "\n",
    "image_zoomed_out = CatalogImage(catalog_id, band_type=\"MS\", bbox=map(float, bbox_zoomed_out.split(\",\")))\n",
    "image_zoomed_in = CatalogImage(catalog_id, band_type=\"MS\", bbox=map(float, bbox_zoomed_in.split(\",\")))\n",
    "\n",
    "#make a figure that has 20 width and 10 height\n",
    "fig = plt.figure(dpi=144,figsize=(10, 5))\n",
    "a = fig.add_subplot(1, 2,1)\n",
    "a.axis('off')\n",
    "imgplot = plt.imshow(image_zoomed_out.rgb(bands=[2,1,0]))\n",
    "a.set_title('Zoomed out')\n",
    "a = fig.add_subplot(1, 2, 2)\n",
    "a.axis('off')\n",
    "imgplot = plt.imshow(image_zoomed_in.rgb(bands=[2,1,0]))\n",
    "a.set_title('Zoomed into the north\\nNear the baseball fields')"
   ]
  },
  {
   "cell_type": "markdown",
   "metadata": {},
   "source": [
    "### WorldView2 (WV02)\n",
    "\n",
    "<a href=\"https://gbdxdocs.digitalglobe.com/docs/worldview-2\" target=\"_blank\" rel=\"noopener\">Worldview-2</a> was the first multispectral satellite from DigitalGlobe. It has better spatial resolution than Ikonos (1.85 meters for multispectral), but about the same spectral resoltion with 9 bands of information from 2 sensors. "
   ]
  },
  {
   "cell_type": "code",
   "execution_count": null,
   "metadata": {},
   "outputs": [],
   "source": [
    "catalog_id = '10300100065C4B00'\n",
    "bbox_zoomed_out = '-104.62331771850587, 38.2283368266312, -104.57765579223634, 38.26311948473318'\n",
    "bbox_zoomed_in = '-104.60874795913698, 38.25575652211525, -104.60304021835327, 38.25924433426365'\n",
    "\n",
    "image_zoomed_out = CatalogImage(catalog_id, band_type=\"MS\", bbox=map(float, bbox_zoomed_out.split(\",\")))\n",
    "image_zoomed_in = CatalogImage(catalog_id, band_type=\"MS\", bbox=map(float, bbox_zoomed_in.split(\",\")))\n",
    "\n",
    "#make a figure that has 20 width and 10 height\n",
    "fig = plt.figure(dpi=144,figsize=(10, 5))\n",
    "a = fig.add_subplot(1, 2,1)\n",
    "a.axis('off')\n",
    "imgplot = plt.imshow(image_zoomed_out.rgb(bands=[2,1,0]))\n",
    "a.set_title('Zoomed out')\n",
    "a = fig.add_subplot(1, 2, 2)\n",
    "a.axis('off')\n",
    "imgplot = plt.imshow(image_zoomed_in.rgb(bands=[2,1,0]))\n",
    "a.set_title('Zoomed into the north\\nNear the baseball fields')"
   ]
  },
  {
   "cell_type": "markdown",
   "metadata": {},
   "source": [
    "### WorldView3 (WV03)\n",
    "\n",
    " <a href=\"https://gbdxdocs.digitalglobe.com/docs/worldview-3\" target=\"_blank\" rel=\"noopener\">Worldview-3</a> has the most spectral resolution of any of our satellites with 29 bands of spectral information from 4 sensors. It has even better spatial resolution (1.24 meters for multispectral) than WV02. With a panchromatic band of 0.31 meters, using pan-sharpening (introduced in the  <a href=\"https://notebooks.geobigdata.io/hub/notebooks/5c0060d712520c496d53fdac?tab=code​\" target=\"_blank\" rel=\"noopener\">next notebook</a>) you can acheive spectacular feature recognition. For example, in the zoomed in picture, you can make out the parking lines above the baseball field. As of this writing 0.31 meters is the finest spatial resolution we are legally allowed to acquire. "
   ]
  },
  {
   "cell_type": "code",
   "execution_count": null,
   "metadata": {},
   "outputs": [],
   "source": [
    "catalog_id = '1040010043212A00'\n",
    "bbox_zoomed_out = '-104.62331771850587, 38.2283368266312, -104.57765579223634, 38.26311948473318'\n",
    "bbox_zoomed_in = '-104.60874795913698, 38.25575652211525, -104.60304021835327, 38.25924433426365'\n",
    "\n",
    "image_zoomed_out = CatalogImage(catalog_id, band_type=\"MS\", bbox=map(float, bbox_zoomed_out.split(\",\")))\n",
    "image_zoomed_in = CatalogImage(catalog_id, band_type=\"MS\", bbox=map(float, bbox_zoomed_in.split(\",\")))\n",
    "\n",
    "#make a figure that has 20 width and 10 height\n",
    "fig = plt.figure(dpi=144,figsize=(10, 5))\n",
    "a = fig.add_subplot(1, 2,1)\n",
    "a.axis('off')\n",
    "imgplot = plt.imshow(image_zoomed_out.rgb(bands=[2,1,0]))\n",
    "a.set_title('Zoomed out')\n",
    "a = fig.add_subplot(1, 2, 2)\n",
    "a.axis('off')\n",
    "imgplot = plt.imshow(image_zoomed_in.rgb(bands=[2,1,0]))\n",
    "a.set_title('Zoomed into the north\\nNear the baseball fields')"
   ]
  },
  {
   "cell_type": "markdown",
   "metadata": {},
   "source": [
    "### WorldView4 (WV04)\n",
    "\n",
    " <a href=\"https://gbdxdocs.digitalglobe.com/docs/worldview-4\" target=\"_blank\" rel=\"noopener\">WorldView-4</a> has the same  spatial resolution as WV03 (1.24 Multispectral with 0.31 Panchomatic). Its spectral resolution is limited with only 5 bands from 2 sensors. WV04 was added to the fleet to help meet the demand for high spatial resolution imagery with the most frequently used spectral bands."
   ]
  },
  {
   "cell_type": "code",
   "execution_count": null,
   "metadata": {},
   "outputs": [],
   "source": [
    "catalog_id = '6060bafe-9c0a-4c7a-86c3-7bd10316ed61-inv'\n",
    "bbox_zoomed_out = '-104.62331771850587, 38.2283368266312, -104.57765579223634, 38.26311948473318'\n",
    "bbox_zoomed_in = '-104.60874795913698, 38.25575652211525, -104.60304021835327, 38.25924433426365'\n",
    "\n",
    "image_zoomed_out = CatalogImage(catalog_id, band_type=\"MS\", bbox=map(float, bbox_zoomed_out.split(\",\")))\n",
    "image_zoomed_in = CatalogImage(catalog_id, band_type=\"MS\", bbox=map(float, bbox_zoomed_in.split(\",\")))\n",
    "\n",
    "#make a figure that has 20 width and 10 height\n",
    "fig = plt.figure(dpi=144,figsize=(10, 5))\n",
    "a = fig.add_subplot(1, 2,1)\n",
    "a.axis('off')\n",
    "imgplot = plt.imshow(image_zoomed_out.rgb(bands=[2,1,0]))\n",
    "a.set_title('Zoomed out')\n",
    "a = fig.add_subplot(1, 2, 2)\n",
    "a.axis('off')\n",
    "imgplot = plt.imshow(image_zoomed_in.rgb(bands=[2,1,0]))\n",
    "a.set_title('Zoomed into the north\\nNear the baseball fields')"
   ]
  },
  {
   "cell_type": "code",
   "execution_count": null,
   "metadata": {},
   "outputs": [],
   "source": []
  }
 ],
 "metadata": {
  "kernelspec": {
   "display_name": "python3-notebooks",
   "language": "python",
   "name": "python3-notebooks"
  },
  "language_info": {
   "codemirror_mode": {
    "name": "ipython",
    "version": 3
   },
   "file_extension": ".py",
   "mimetype": "text/x-python",
   "name": "python",
   "nbconvert_exporter": "python",
   "pygments_lexer": "ipython3",
   "version": "3.7.8"
  }
 },
 "nbformat": 4,
 "nbformat_minor": 4
}
